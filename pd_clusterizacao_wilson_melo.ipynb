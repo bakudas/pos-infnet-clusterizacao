{
 "cells": [
  {
   "cell_type": "markdown",
   "id": "ffe1fca7-98ab-4f76-bda0-5aa30640e3ce",
   "metadata": {},
   "source": [
    "# Parte 1 Infraestrutura"
   ]
  },
  {
   "cell_type": "code",
   "execution_count": 7,
   "id": "041810cc-05bc-470e-b0f2-0e91bf88ab95",
   "metadata": {},
   "outputs": [
    {
     "name": "stdout",
     "output_type": "stream",
     "text": [
      "Python 3.10.13\n"
     ]
    }
   ],
   "source": [
    "# python version\n",
    "!python --version"
   ]
  },
  {
   "cell_type": "code",
   "execution_count": 8,
   "id": "91a9386e-bc70-413c-92bb-510ac2e5cb7e",
   "metadata": {},
   "outputs": [
    {
     "name": "stdout",
     "output_type": "stream",
     "text": [
      "/Users/bakudas/code/pos-infnet-clusterizacao/pos-pd-clusterizacao/bin/python\n"
     ]
    }
   ],
   "source": [
    "# virtualenv\n",
    "!which python"
   ]
  },
  {
   "cell_type": "code",
   "execution_count": 9,
   "id": "32ba4158-c567-4ae7-86b6-606848ede42f",
   "metadata": {},
   "outputs": [],
   "source": [
    "# install libs\n",
    "!pip install scikit-learn scikit-learn-extra pandas matplotlib seaborn scipy numpy &> /dev/null"
   ]
  },
  {
   "cell_type": "code",
   "execution_count": 10,
   "id": "888a1ee3-3d98-4a03-bb8b-311a526618a3",
   "metadata": {},
   "outputs": [],
   "source": [
    "# generate requirements file\n",
    "!pip freeze > requirements.txt"
   ]
  },
  {
   "cell_type": "code",
   "execution_count": 14,
   "id": "2e88f7e9-4da8-441d-9b10-3b8baea6f5cb",
   "metadata": {},
   "outputs": [
    {
     "name": "stdout",
     "output_type": "stream",
     "text": [
      "contourpy==1.3.1\n",
      "cycler==0.12.1\n",
      "fonttools==4.55.0\n",
      "joblib==1.4.2\n",
      "kiwisolver==1.4.7\n",
      "matplotlib==3.9.2\n",
      "numpy==2.1.3\n",
      "packaging==24.2\n",
      "pandas==2.2.3\n",
      "pillow==11.0.0\n",
      "pyparsing==3.2.0\n",
      "python-dateutil==2.9.0.post0\n",
      "pytz==2024.2\n",
      "scikit-learn==1.5.2\n",
      "scikit-learn-extra==0.3.0\n",
      "scipy==1.14.1\n",
      "seaborn==0.13.2\n",
      "six==1.16.0\n",
      "threadpoolctl==3.5.0\n",
      "tzdata==2024.2\n"
     ]
    }
   ],
   "source": [
    "# check requirements file\n",
    "!cat requirements.txt"
   ]
  },
  {
   "cell_type": "markdown",
   "id": "369e5b1e-2040-4a05-98c2-0e434e1f9f5b",
   "metadata": {},
   "source": [
    "## Jupyter notebook rodando\n",
    "![jupyter rodando](./images/jupyter_env.png)"
   ]
  },
  {
   "cell_type": "markdown",
   "id": "e5272963-2083-4c67-82f0-5ecef548fa48",
   "metadata": {},
   "source": [
    "# Parte 2 Escolha de base de dados\n",
    "\n",
    "Baixe os dados disponibilizados na plataforma Kaggle sobre dados sócio-econômicos e de saúde que determinam o índice de desenvolvimento de um país. Esses dados estão disponibilizados através do link: https://www.kaggle.com/datasets/rohan0301/unsupervised-learning-on-country-data\r\n",
    "Quantos países existem no dataset?\r\n",
    "Mostre através de gráficos a faixa dinâmica das variáveis que serão usadas nas tarefas de clusterização. Analise os resultados mostrados. O que deve ser feito com os dados antes da etapa de clusterização?\r\n",
    "Realize o pré-processamento adequado dos dados."
   ]
  }
 ],
 "metadata": {
  "kernelspec": {
   "display_name": "Python 3 (ipykernel)",
   "language": "python",
   "name": "python3"
  },
  "language_info": {
   "codemirror_mode": {
    "name": "ipython",
    "version": 3
   },
   "file_extension": ".py",
   "mimetype": "text/x-python",
   "name": "python",
   "nbconvert_exporter": "python",
   "pygments_lexer": "ipython3",
   "version": "3.11.6"
  }
 },
 "nbformat": 4,
 "nbformat_minor": 5
}
